{
  "cells": [
    {
      "cell_type": "code",
      "source": [
        "print(\"halloo\")"
      ],
      "metadata": {
        "id": "xEKGYMEq4euQ"
      },
      "id": "xEKGYMEq4euQ",
      "execution_count": null,
      "outputs": []
    }
  ],
  "metadata": {
    "colab": {
      "provenance": []
    }
  },
  "nbformat": 4,
  "nbformat_minor": 5
}